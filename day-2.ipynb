{
 "cells": [
  {
   "cell_type": "code",
   "execution_count": 1,
   "metadata": {},
   "outputs": [
    {
     "name": "stdout",
     "output_type": "stream",
     "text": [
      "0\n",
      "1\n",
      "2\n",
      "3\n",
      "4\n",
      "5\n"
     ]
    }
   ],
   "source": [
    "for i in range(6):\n",
    "    print(i)"
   ]
  },
  {
   "cell_type": "code",
   "execution_count": 2,
   "metadata": {},
   "outputs": [
    {
     "name": "stdout",
     "output_type": "stream",
     "text": [
      "2\n",
      "3\n",
      "4\n",
      "5\n"
     ]
    }
   ],
   "source": [
    "for i in range(2,6):\n",
    "    print(i)"
   ]
  },
  {
   "cell_type": "code",
   "execution_count": 1,
   "metadata": {},
   "outputs": [
    {
     "name": "stdout",
     "output_type": "stream",
     "text": [
      "2\n",
      "5\n",
      "8\n",
      "11\n"
     ]
    }
   ],
   "source": [
    "for i in range(2,12,3):\n",
    "    print(i)"
   ]
  },
  {
   "cell_type": "markdown",
   "metadata": {},
   "source": [
    "(2,12,3): start,end,increment limit"
   ]
  },
  {
   "cell_type": "code",
   "execution_count": 9,
   "metadata": {},
   "outputs": [],
   "source": [
    "for i in range(2,12,-3):\n",
    "    print(i)"
   ]
  },
  {
   "cell_type": "code",
   "execution_count": 4,
   "metadata": {},
   "outputs": [
    {
     "name": "stdout",
     "output_type": "stream",
     "text": [
      "12\n",
      "10\n",
      "8\n",
      "6\n",
      "4\n",
      "2\n"
     ]
    }
   ],
   "source": [
    "for i in range(12,0,-2):\n",
    "    print(i)"
   ]
  },
  {
   "cell_type": "code",
   "execution_count": 2,
   "metadata": {},
   "outputs": [
    {
     "name": "stdout",
     "output_type": "stream",
     "text": [
      "please enter your number17\n",
      "17 * 1 = 17\n",
      "17 * 2 = 34\n",
      "17 * 3 = 51\n",
      "17 * 4 = 68\n",
      "17 * 5 = 85\n",
      "17 * 6 = 102\n",
      "17 * 7 = 119\n",
      "17 * 8 = 136\n",
      "17 * 9 = 153\n",
      "17 * 10 = 170\n"
     ]
    }
   ],
   "source": [
    "num=input(\"please enter your number\")\n",
    "for i in range(1,11):\n",
    "    print(num,\"*\",i,\"=\",int(num)*i)"
   ]
  },
  {
   "cell_type": "code",
   "execution_count": 3,
   "metadata": {},
   "outputs": [
    {
     "name": "stdout",
     "output_type": "stream",
     "text": [
      "please enter your number:8\n",
      "please enter the range:11\n",
      "8 * 1 = 8\n",
      "8 * 2 = 16\n",
      "8 * 3 = 24\n",
      "8 * 4 = 32\n",
      "8 * 5 = 40\n",
      "8 * 6 = 48\n",
      "8 * 7 = 56\n",
      "8 * 8 = 64\n",
      "8 * 9 = 72\n",
      "8 * 10 = 80\n"
     ]
    }
   ],
   "source": [
    "tableOf=input(\"please enter your number:\")\n",
    "sizeOfTable=input(\"please enter the range:\")\n",
    "for j in range(1,int(sizeOfTable)):\n",
    "    result=int(tableOf)*j\n",
    "    print(tableOf,\"*\",j,\"=\",result)"
   ]
  },
  {
   "cell_type": "code",
   "execution_count": 21,
   "metadata": {},
   "outputs": [
    {
     "name": "stdout",
     "output_type": "stream",
     "text": [
      "0\n",
      "1\n",
      "3\n",
      "6\n",
      "10\n",
      "15\n"
     ]
    }
   ],
   "source": [
    "result=0\n",
    "for i in range(6):\n",
    "    result=result+i\n",
    "    print(result)"
   ]
  },
  {
   "cell_type": "markdown",
   "metadata": {},
   "source": [
    "0+1+2+3+4+5\n"
   ]
  },
  {
   "cell_type": "code",
   "execution_count": 30,
   "metadata": {},
   "outputs": [
    {
     "name": "stdout",
     "output_type": "stream",
     "text": [
      "please enter the number:10\n",
      "1\n",
      "4\n",
      "9\n",
      "16\n",
      "25\n"
     ]
    }
   ],
   "source": [
    "sum=0\n",
    "x=input(\"please enter the number:\")\n",
    "\n",
    "for i in range(1,int(x)+1,2):\n",
    "    sum=sum+i\n",
    "    print(sum)\n"
   ]
  },
  {
   "cell_type": "markdown",
   "metadata": {},
   "source": [
    "0+1=1+3=4+5=9+7=16+9=25(sum of odd numbers)"
   ]
  },
  {
   "cell_type": "code",
   "execution_count": 31,
   "metadata": {},
   "outputs": [
    {
     "name": "stdout",
     "output_type": "stream",
     "text": [
      "India's India 'India'\n"
     ]
    }
   ],
   "source": [
    "s1=\"India's\"\n",
    "s2='India'\n",
    "s3=\"'India'\"\n",
    "print(s1,s2,s3)"
   ]
  },
  {
   "cell_type": "markdown",
   "metadata": {},
   "source": [
    "3 types of writing string "
   ]
  },
  {
   "cell_type": "code",
   "execution_count": 32,
   "metadata": {},
   "outputs": [
    {
     "name": "stdout",
     "output_type": "stream",
     "text": [
      "i\n"
     ]
    }
   ],
   "source": [
    "s1=\"India\"\n",
    "print(s1[3])"
   ]
  },
  {
   "cell_type": "code",
   "execution_count": 33,
   "metadata": {},
   "outputs": [
    {
     "name": "stdout",
     "output_type": "stream",
     "text": [
      "d\n"
     ]
    }
   ],
   "source": [
    "s1=\"India\"\n",
    "print(s1[-3])"
   ]
  },
  {
   "cell_type": "code",
   "execution_count": 34,
   "metadata": {},
   "outputs": [
    {
     "name": "stdout",
     "output_type": "stream",
     "text": [
      "18\n"
     ]
    }
   ],
   "source": [
    "s1=\"India is a country\"\n",
    "print(len(s1))"
   ]
  },
  {
   "cell_type": "code",
   "execution_count": 35,
   "metadata": {},
   "outputs": [
    {
     "name": "stdout",
     "output_type": "stream",
     "text": [
      "y\n"
     ]
    }
   ],
   "source": [
    "s1=\"India is a country\"\n",
    "print(s1[17])"
   ]
  },
  {
   "cell_type": "code",
   "execution_count": 36,
   "metadata": {},
   "outputs": [
    {
     "name": "stdout",
     "output_type": "stream",
     "text": [
      "n\n"
     ]
    }
   ],
   "source": [
    "s1=\"India is a country\"\n",
    "print(s1[1])"
   ]
  },
  {
   "cell_type": "code",
   "execution_count": 2,
   "metadata": {},
   "outputs": [
    {
     "name": "stdout",
     "output_type": "stream",
     "text": [
      "n\n",
      "11\n"
     ]
    }
   ],
   "source": [
    "s1=\"India is a country\"\n",
    "print(s1[1])\n",
    "print(s1.index('c'))"
   ]
  },
  {
   "cell_type": "code",
   "execution_count": 7,
   "metadata": {},
   "outputs": [
    {
     "name": "stdout",
     "output_type": "stream",
     "text": [
      "18\n",
      "0 I\n",
      "1 n\n",
      "2 d\n",
      "3 i\n",
      "4 a\n",
      "5  \n",
      "6 i\n",
      "7 s\n",
      "8  \n",
      "9 a\n",
      "10  \n",
      "11 c\n",
      "12 o\n",
      "13 u\n",
      "14 n\n",
      "15 t\n",
      "16 r\n",
      "17 y\n"
     ]
    }
   ],
   "source": [
    "s1=\"India is a country\"\n",
    "print(len(s1))\n",
    "\n",
    "\n",
    "for i in range(len(s1)):\n",
    " print(i, s1[i])"
   ]
  },
  {
   "cell_type": "code",
   "execution_count": 3,
   "metadata": {},
   "outputs": [
    {
     "name": "stdout",
     "output_type": "stream",
     "text": [
      "18\n",
      "0 I 0\n",
      "1 n 1\n",
      "2 d 2\n",
      "3 i 3\n",
      "4 a 4\n",
      "5   5\n",
      "6 i 3\n",
      "7 s 7\n",
      "8   5\n",
      "9 a 4\n",
      "10   5\n",
      "11 c 11\n",
      "12 o 12\n",
      "13 u 13\n",
      "14 n 1\n",
      "15 t 15\n",
      "16 r 16\n",
      "17 y 17\n"
     ]
    }
   ],
   "source": [
    "s1=\"India is a country\"\n",
    "print(len(s1))\n",
    "\n",
    "\n",
    "for i in range(len(s1)):\n",
    "    print(i, s1[i], s1.index(s1[i]))\n",
    "   "
   ]
  },
  {
   "cell_type": "code",
   "execution_count": 1,
   "metadata": {},
   "outputs": [
    {
     "name": "stdout",
     "output_type": "stream",
     "text": [
      "i\n",
      "n\n",
      "d\n",
      "i\n",
      "a\n"
     ]
    }
   ],
   "source": [
    "s1=\"india\"\n",
    "for i in s1:\n",
    "    print(i)"
   ]
  },
  {
   "cell_type": "code",
   "execution_count": 2,
   "metadata": {},
   "outputs": [
    {
     "name": "stdout",
     "output_type": "stream",
     "text": [
      "i\n",
      "n\n",
      "d\n",
      "i\n",
      "a\n"
     ]
    }
   ],
   "source": [
    "s1=\"india\"\n",
    "for i in range(len(s1)):\n",
    "    print(s1[i])"
   ]
  },
  {
   "cell_type": "code",
   "execution_count": 3,
   "metadata": {},
   "outputs": [
    {
     "name": "stdout",
     "output_type": "stream",
     "text": [
      "I\n",
      "N\n",
      "D\n",
      "I\n",
      "A\n"
     ]
    }
   ],
   "source": [
    "s1=\"india\"\n",
    "for i in s1:\n",
    "    print(i.upper())"
   ]
  },
  {
   "cell_type": "code",
   "execution_count": 4,
   "metadata": {},
   "outputs": [
    {
     "name": "stdout",
     "output_type": "stream",
     "text": [
      "i\n",
      "n\n",
      "d\n",
      "i\n",
      "a\n"
     ]
    }
   ],
   "source": [
    "s1=\"india\"\n",
    "for i in s1:\n",
    "    print(i.lower())"
   ]
  },
  {
   "cell_type": "code",
   "execution_count": 5,
   "metadata": {},
   "outputs": [
    {
     "name": "stdout",
     "output_type": "stream",
     "text": [
      "i I\n",
      "n N\n",
      "d D\n",
      "i I\n",
      "a A\n",
      "INDIA india\n"
     ]
    }
   ],
   "source": [
    "s1=\"india\"\n",
    "for i in s1:\n",
    "    print(i.lower(),i.upper())\n",
    "print(s1.upper(), s1.lower())"
   ]
  },
  {
   "cell_type": "code",
   "execution_count": 3,
   "metadata": {},
   "outputs": [
    {
     "name": "stdout",
     "output_type": "stream",
     "text": [
      "I False True False\n",
      "n False True False\n",
      "d False True False\n",
      "i False True False\n",
      "a False True False\n",
      "5 True False False\n",
      "7 True False False\n",
      "6 True False False\n",
      "9 True False False\n",
      "i False True False\n",
      "u False True False\n",
      "  False False True\n",
      "h False True False\n",
      "e False True False\n",
      "y False True False\n",
      "  False False True\n",
      "I False True False\n",
      "N False True False\n",
      "D False True False\n",
      "I False True False\n",
      "A False True False\n",
      "  False False True\n",
      "6 True False False\n",
      "7 True False False\n",
      "y False True False\n",
      "# False False False\n",
      "$ False False False\n",
      "% False False False\n",
      "^ False False False\n",
      "  False False True\n",
      "j False True False\n",
      "h False True False\n",
      "h False True False\n",
      "j False True False\n"
     ]
    }
   ],
   "source": [
    "s2=\"India5769iu hey INDIA 67y#$%^ jhhj\"\n",
    "for j in s2:\n",
    "    print(j,j.isnumeric(), j.isalpha(), j.isspace())"
   ]
  },
  {
   "cell_type": "code",
   "execution_count": 4,
   "metadata": {},
   "outputs": [
    {
     "name": "stdout",
     "output_type": "stream",
     "text": [
      "number of space: 4\n"
     ]
    }
   ],
   "source": [
    "spaceCount=0\n",
    "s2=\"India5769iu hey INDIA 67y#$%^ jhhj\"\n",
    "for j in s2:\n",
    "    if j.isspace()==True:\n",
    "        spaceCount+=1\n",
    "print(\"number of space:\", spaceCount)"
   ]
  },
  {
   "cell_type": "code",
   "execution_count": 5,
   "metadata": {},
   "outputs": [
    {
     "name": "stdout",
     "output_type": "stream",
     "text": [
      "number of alpha: 20\n"
     ]
    }
   ],
   "source": [
    "alphaCount=0\n",
    "s2=\"India5769iu hey INDIA 67y#$%^ jhhj\"\n",
    "for j in s2:\n",
    "    if j.isalpha()==True:\n",
    "        alphaCount+=1\n",
    "print(\"number of alpha:\", alphaCount)"
   ]
  },
  {
   "cell_type": "code",
   "execution_count": 7,
   "metadata": {},
   "outputs": [
    {
     "name": "stdout",
     "output_type": "stream",
     "text": [
      "number of numeric: 6\n"
     ]
    }
   ],
   "source": [
    "numericCount=0\n",
    "s2=\"India5769iu hey INDIA 67y#$%^ jhhj\"\n",
    "for j in s2:\n",
    "    if j.isnumeric()==True:\n",
    "        numericCount=numericCount+1\n",
    "print(\"number of numeric:\", numericCount)"
   ]
  },
  {
   "cell_type": "code",
   "execution_count": 8,
   "metadata": {},
   "outputs": [
    {
     "name": "stdout",
     "output_type": "stream",
     "text": [
      "number of upper character: 6\n"
     ]
    }
   ],
   "source": [
    "upperCount=0\n",
    "s2=\"India5769iu hey INDIA 67y#$%^ jhhj\"\n",
    "for j in s2:\n",
    "    if j.isupper()==True:\n",
    "        upperCount=upperCount+1\n",
    "print(\"number of upper character:\", upperCount)"
   ]
  },
  {
   "cell_type": "code",
   "execution_count": null,
   "metadata": {},
   "outputs": [],
   "source": [
    "upperCount=0\n",
    "s2=\"India5769iu hey INDIA 67y#$%^ jhhj\"\n",
    "for j in s2:\n",
    "    if j.isupper()==True:\n",
    "        upperCount=upperCount+1\n",
    "    elif j.isalpha():\n",
    "        alphaCount=alphacount+1\n",
    "    elif j.numericCount():\n",
    "        numericCount=numericCount+1\n",
    "print(\"number of upper character:\", upperCount)"
   ]
  }
 ],
 "metadata": {
  "kernelspec": {
   "display_name": "Python 3",
   "language": "python",
   "name": "python3"
  },
  "language_info": {
   "codemirror_mode": {
    "name": "ipython",
    "version": 3
   },
   "file_extension": ".py",
   "mimetype": "text/x-python",
   "name": "python",
   "nbconvert_exporter": "python",
   "pygments_lexer": "ipython3",
   "version": "3.7.3"
  }
 },
 "nbformat": 4,
 "nbformat_minor": 2
}
